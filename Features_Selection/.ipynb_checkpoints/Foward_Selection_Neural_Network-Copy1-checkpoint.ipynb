{
 "cells": [
  {
   "cell_type": "code",
   "execution_count": 1,
   "metadata": {},
   "outputs": [],
   "source": [
    "from mlxtend.feature_selection import SequentialFeatureSelector as SFS\n",
    "from sklearn.neural_network import MLPClassifier\n",
    "import numpy as np"
   ]
  },
  {
   "cell_type": "code",
   "execution_count": 2,
   "metadata": {},
   "outputs": [],
   "source": [
    "X = np.genfromtxt('Data_OpenCV/Features_X.csv',delimiter=',')\n",
    "Y = np.genfromtxt('Data_OpenCV/Y_labels.csv',delimiter=',')"
   ]
  },
  {
   "cell_type": "code",
   "execution_count": 3,
   "metadata": {},
   "outputs": [],
   "source": [
    "sfs = SFS(MLPClassifier(hidden_layer_sizes=(100,100,100,100,100),activation = 'relu',max_iter=1000),\n",
    "           k_features=75,\n",
    "           forward=True,\n",
    "           floating=False,\n",
    "           scoring = 'accuracy',\n",
    "           cv = 4)"
   ]
  },
  {
   "cell_type": "code",
   "execution_count": null,
   "metadata": {},
   "outputs": [],
   "source": [
    "sfs.fit(X, Y)\n",
    "type(sfs.k_feature_names_)   "
   ]
  },
  {
   "cell_type": "code",
   "execution_count": null,
   "metadata": {},
   "outputs": [],
   "source": [
    "features = list(sfs.k_feature_idx_)"
   ]
  },
  {
   "cell_type": "code",
   "execution_count": null,
   "metadata": {},
   "outputs": [],
   "source": [
    "features"
   ]
  },
  {
   "cell_type": "code",
   "execution_count": null,
   "metadata": {},
   "outputs": [],
   "source": [
    "import pandas as pd"
   ]
  },
  {
   "cell_type": "code",
   "execution_count": null,
   "metadata": {},
   "outputs": [],
   "source": [
    "df_X = pd.DataFrame(X)"
   ]
  },
  {
   "cell_type": "code",
   "execution_count": null,
   "metadata": {},
   "outputs": [],
   "source": [
    "lista = []\n",
    "for i in range(150):\n",
    "    if i not in features:\n",
    "        lista.append(i)\n",
    "df_X.drop(lista,axis=1,inplace=True)\n",
    "df_X.head()"
   ]
  },
  {
   "cell_type": "code",
   "execution_count": null,
   "metadata": {},
   "outputs": [],
   "source": [
    "X_new = df_X.to_numpy()"
   ]
  },
  {
   "cell_type": "code",
   "execution_count": null,
   "metadata": {},
   "outputs": [],
   "source": [
    "X_new.shape"
   ]
  },
  {
   "cell_type": "code",
   "execution_count": null,
   "metadata": {},
   "outputs": [],
   "source": [
    "def Redes_Neuronales():\n",
    "    random.seed(19680801)\n",
    "    X_train, X_test, y_train, y_test = train_test_split(X_new, Y, test_size=.7)\n",
    "    modelo =MLPClassifier(hidden_layer_sizes=(100,100,100,100,100),activation = 'relu',max_iter=1000)\n",
    "    modelo.fit(X_train,y_train)\n",
    "\n",
    "    #Validación con muestras de entrenamiento\n",
    "    Ytrain_pred = modelo.predict(X_train)\n",
    "\n",
    "    #Validación con las muestras de test    \n",
    "    Yest = modelo.predict(X_test)\n",
    "    plot_confusion_matrix(modelo,X=X_test, y_true=y_test)\n",
    "    plt.show()"
   ]
  }
 ],
 "metadata": {
  "kernelspec": {
   "display_name": "Python 3",
   "language": "python",
   "name": "python3"
  },
  "language_info": {
   "codemirror_mode": {
    "name": "ipython",
    "version": 3
   },
   "file_extension": ".py",
   "mimetype": "text/x-python",
   "name": "python",
   "nbconvert_exporter": "python",
   "pygments_lexer": "ipython3",
   "version": "3.7.5"
  }
 },
 "nbformat": 4,
 "nbformat_minor": 4
}
