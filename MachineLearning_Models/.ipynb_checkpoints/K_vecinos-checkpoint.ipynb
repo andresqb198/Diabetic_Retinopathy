{
 "cells": [
  {
   "cell_type": "code",
   "execution_count": 1,
   "metadata": {},
   "outputs": [],
   "source": [
    "import numpy as np\n",
    "import matplotlib.pyplot as plt\n",
    "import pandas as pd\n",
    "from sklearn.metrics import confusion_matrix\n",
    "from sklearn.neighbors import KNeighborsClassifier\n",
    "from numpy import random\n",
    "from sklearn.model_selection import StratifiedKFold\n",
    "from sklearn import preprocessing\n",
    "from numpy import matlib\n",
    "import qgrid"
   ]
  },
  {
   "cell_type": "code",
   "execution_count": 2,
   "metadata": {},
   "outputs": [],
   "source": [
    "df_x = pd.read_csv('Features_X')\n",
    "df_y = pd.read_csv('Y_labels')\n",
    "df_y.drop(['Unnamed: 0'],axis=1, inplace = True)\n",
    "df_x.drop(['Unnamed: 0'],axis=1, inplace = True)\n",
    "X = pd.DataFrame.to_numpy(df_x)\n",
    "Y = pd.DataFrame.to_numpy(df_y)"
   ]
  },
  {
   "cell_type": "code",
   "execution_count": 3,
   "metadata": {},
   "outputs": [],
   "source": [
    "def error_logistic(Y_pred, Y_true):\n",
    "    error = 0\n",
    "    for ye, y in zip(Y_pred, Y_true):\n",
    "        if ye != y:\n",
    "            error += 1\n",
    "    error = float(error)/float(np.size(Y_pred))\n",
    "    \n",
    "    return error"
   ]
  },
  {
   "cell_type": "code",
   "execution_count": 4,
   "metadata": {},
   "outputs": [],
   "source": [
    "def K_vecinos(vecinos):\n",
    "    Folds = 4\n",
    "    random.seed(19680801)\n",
    "    EficienciaTrain = np.zeros(Folds)\n",
    "    EficienciaVal = np.zeros(Folds)\n",
    "    Error = np.zeros(Folds)\n",
    "    skf = StratifiedKFold(n_splits=Folds)\n",
    "    j = 0\n",
    "        \n",
    "    for train, test in skf.split(X, Y):\n",
    "        Xtrain = X[train,:]\n",
    "        Ytrain = Y[train]\n",
    "        Xtest = X[test,:]\n",
    "        Ytest = Y[test]\n",
    "        \n",
    "        #Se normalizan los datos\n",
    "        media = np.mean(Xtrain)\n",
    "        desvia = np.std(Xtrain)\n",
    "        Xtrain = preprocessing.scale(Xtrain)\n",
    "        Xtest = (Xtest - np.matlib.repmat(media, Xtest.shape[0], 1))/np.matlib.repmat(desvia, Xtest.shape[0], 1)\n",
    "        \n",
    "        \n",
    "        modelo = KNeighborsClassifier(n_neighbors=vecinos)\n",
    "        modelo.fit(Xtrain,Ytrain)\n",
    "        \n",
    "        #Validación con muestras de entrenamiento\n",
    "        Ytrain_pred = modelo.predict(Xtrain)\n",
    "        \n",
    "        #Validación con las muestras de test    \n",
    "        Yest = modelo.predict(Xtest)\n",
    "        \n",
    "        \n",
    "        Error[j] = error_logistic(Y_pred=Yest,Y_true=Ytest)\n",
    "        \n",
    "        #Evaluamos las predicciones del modelo con los datos de test\n",
    "        EficienciaTrain[j] = np.mean(Ytrain_pred == Ytrain)\n",
    "        EficienciaVal[j] = np.mean(Yest == Ytest)\n",
    "        j += 1\n",
    "        \n",
    "    print(\"Modelo entrenado con \"+ str(vecinos)+ \" vecinos\")\n",
    "    \n",
    "    return np.mean(EficienciaVal), np.std(EficienciaVal),np.mean(Error),np.std(Error)    "
   ]
  },
  {
   "cell_type": "code",
   "execution_count": 9,
   "metadata": {},
   "outputs": [],
   "source": [
    "import qgrid\n",
    "\n",
    "randn = np.random.randn\n",
    "df_types = pd.DataFrame({\n",
    "    'Numero de vecinos' : pd.Series([1])})#, 2, 3, 4, 5, 6, 7,9,11,13,15,17,19,21,23,25,27,29,31,33,35,37,39])})\n",
    "df_types[\"Eficiencia en validacion\"] = \"\"\n",
    "df_types[\"Intervalo de confianza\"] = \"\"\n",
    "df_types[\"Error\"] = \"\"\n",
    "df_types[\"Std Error\"] = \"\"\n",
    "df_types.set_index(['Numero de vecinos'], inplace=True)\n"
   ]
  },
  {
   "cell_type": "code",
   "execution_count": 14,
   "metadata": {},
   "outputs": [
    {
     "ename": "SyntaxError",
     "evalue": "can't assign to function call (<ipython-input-14-a9a6a7123476>, line 4)",
     "output_type": "error",
     "traceback": [
      "\u001b[0;36m  File \u001b[0;32m\"<ipython-input-14-a9a6a7123476>\"\u001b[0;36m, line \u001b[0;32m4\u001b[0m\n\u001b[0;31m    df_types.loc(\"Eficiencia en validacion\",i) = str(eficiencia_val)\u001b[0m\n\u001b[0;31mSyntaxError\u001b[0m\u001b[0;31m:\u001b[0m can't assign to function call\n"
     ]
    }
   ],
   "source": [
    "i = 0\n",
    "for vecinos in df_types.index:   \n",
    "    eficiencia_val, ic_val,error, std_error = K_vecinos(vecinos)\n",
    "    df_types.loc(\"Eficiencia en validacion\",i) = str(eficiencia_val)\n",
    "    df_types.loc(\"Intervalo de confianza\",i) = str(ic_val)\n",
    "    df_types.loc(\"Error\",i) = str(error)\n",
    "    df_types.loc(\"Std Error\",i) = str(std_error)\n",
    "    i=i+1"
   ]
  },
  {
   "cell_type": "code",
   "execution_count": null,
   "metadata": {},
   "outputs": [],
   "source": [
    "qgrid_widget = qgrid.show_grid(df_types, show_toolbar=False)\n",
    "qgrid_widget\n",
    "qgrid_widget.get_changed_df()"
   ]
  },
  {
   "cell_type": "code",
   "execution_count": null,
   "metadata": {},
   "outputs": [],
   "source": [
    "df_types"
   ]
  },
  {
   "cell_type": "code",
   "execution_count": null,
   "metadata": {},
   "outputs": [],
   "source": []
  }
 ],
 "metadata": {
  "kernelspec": {
   "display_name": "Python 3",
   "language": "python",
   "name": "python3"
  },
  "language_info": {
   "codemirror_mode": {
    "name": "ipython",
    "version": 2
   },
   "file_extension": ".py",
   "mimetype": "text/x-python",
   "name": "python",
   "nbconvert_exporter": "python",
   "pygments_lexer": "ipython2",
   "version": "2.7.17"
  }
 },
 "nbformat": 4,
 "nbformat_minor": 2
}
