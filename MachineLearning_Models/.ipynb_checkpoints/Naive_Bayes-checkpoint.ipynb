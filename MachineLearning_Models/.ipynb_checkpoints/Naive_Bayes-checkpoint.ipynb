{
 "cells": [
  {
   "cell_type": "code",
   "execution_count": 1,
   "metadata": {},
   "outputs": [],
   "source": [
    "import numpy as np\n",
    "import matplotlib.pyplot as plt\n",
    "import pandas as pd\n",
    "from sklearn.metrics import confusion_matrix\n",
    "from sklearn.mixture import GaussianMixture\n",
    "from numpy import random\n",
    "from sklearn.model_selection import StratifiedKFold\n",
    "from sklearn import preprocessing\n",
    "from numpy import matlib\n",
    "import qgrid"
   ]
  },
  {
   "cell_type": "code",
   "execution_count": 2,
   "metadata": {},
   "outputs": [],
   "source": [
    "X = np.genfromtxt('Data_PCA/X_features.csv',delimiter=',')\n",
    "Y = np.genfromtxt('Data_PCA/Y_labels.csv',delimiter=',')"
   ]
  },
  {
   "cell_type": "code",
   "execution_count": 3,
   "metadata": {},
   "outputs": [
    {
     "name": "stdout",
     "output_type": "stream",
     "text": [
      "('Tama\\xc3\\xb1o X: ', (14108, 150))\n",
      "('Tama\\xc3\\xb1o Y: ', (14108,))\n"
     ]
    }
   ],
   "source": [
    "print('Tamaño X: ',X.shape)\n",
    "print('Tamaño Y: ', Y.shape)"
   ]
  },
  {
   "cell_type": "code",
   "execution_count": 4,
   "metadata": {},
   "outputs": [],
   "source": [
    "def error_logistic(Y_pred, Y_true):\n",
    "    error = 0\n",
    "    for ye, y in zip(Y_pred, Y_true):\n",
    "        if ye != y:\n",
    "            error += 1\n",
    "    error = float(error)/float(np.size(Y_pred))\n",
    "    \n",
    "    return error"
   ]
  },
  {
   "cell_type": "code",
   "execution_count": 5,
   "metadata": {},
   "outputs": [],
   "source": [
    "def Naive_Bayes():\n",
    "    Folds = 4\n",
    "    random.seed(19680801)\n",
    "    EficienciaTrain = np.zeros(Folds)\n",
    "    EficienciaVal = np.zeros(Folds)\n",
    "    Error = np.zeros(Folds)\n",
    "    skf = StratifiedKFold(n_splits=Folds)\n",
    "    j = 0\n",
    "        \n",
    "    for train, test in skf.split(X, Y):\n",
    "        Xtrain = X[train,:]\n",
    "        Ytrain = Y[train]\n",
    "        Xtest = X[test,:]\n",
    "        Ytest = Y[test]\n",
    "        \n",
    "        #Se normalizan los datos\n",
    "        media = np.mean(Xtrain)\n",
    "        desvia = np.std(Xtrain)\n",
    "        Xtrain = preprocessing.scale(Xtrain)\n",
    "        Xtest = (Xtest - np.matlib.repmat(media, Xtest.shape[0], 1))/np.matlib.repmat(desvia, Xtest.shape[0], 1)\n",
    "        \n",
    "        \n",
    "        modelo = GaussianMixture(covariance_type='diag')\n",
    "        modelo.fit(Xtrain,Ytrain)\n",
    "        \n",
    "        #Validación con muestras de entrenamiento\n",
    "        Ytrain_pred = modelo.predict(Xtrain)\n",
    "        \n",
    "        #Validación con las muestras de test    \n",
    "        Yest = modelo.predict(Xtest)\n",
    "        \n",
    "        \n",
    "        Error[j] = error_logistic(Y_pred=Yest,Y_true=Ytest)\n",
    "        \n",
    "        #Evaluamos las predicciones del modelo con los datos de test\n",
    "        EficienciaTrain[j] = np.mean(Ytrain_pred == Ytrain)\n",
    "        EficienciaVal[j] = np.mean(Yest == Ytest)\n",
    "        j += 1\n",
    "        \n",
    "      \n",
    "    return np.mean(EficienciaVal), np.std(EficienciaVal),np.mean(Error),np.std(Error) "
   ]
  },
  {
   "cell_type": "code",
   "execution_count": 6,
   "metadata": {},
   "outputs": [
    {
     "name": "stdout",
     "output_type": "stream",
     "text": [
      "Eficiencia validacion: 0.34037424290949125 con Intervalo de confianza: 4.525822429557458e-05\n",
      "Error: 0.6596257570905087 con desviación estandar: 4.525822429557458e-05\n"
     ]
    }
   ],
   "source": [
    "eficiencia_val, ic_val,error, std_error = Naive_Bayes()\n",
    "print(\"Eficiencia validacion: \"+str(eficiencia_val)+\" con Intervalo de confianza: \"+str(ic_val))\n",
    "print(\"Error: \"+str(error)+\" con desviación estandar: \"+str(std_error))"
   ]
  },
  {
   "cell_type": "code",
   "execution_count": null,
   "metadata": {},
   "outputs": [],
   "source": []
  }
 ],
 "metadata": {
  "kernelspec": {
   "display_name": "Python 3",
   "language": "python",
   "name": "python3"
  },
  "language_info": {
   "codemirror_mode": {
    "name": "ipython",
    "version": 2
   },
   "file_extension": ".py",
   "mimetype": "text/x-python",
   "name": "python",
   "nbconvert_exporter": "python",
   "pygments_lexer": "ipython2",
   "version": "2.7.17"
  }
 },
 "nbformat": 4,
 "nbformat_minor": 2
}
