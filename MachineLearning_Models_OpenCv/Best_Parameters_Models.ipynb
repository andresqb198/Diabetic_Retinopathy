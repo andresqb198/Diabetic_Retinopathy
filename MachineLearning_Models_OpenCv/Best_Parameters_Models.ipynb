{
 "cells": [
  {
   "cell_type": "code",
   "execution_count": 1,
   "metadata": {},
   "outputs": [],
   "source": [
    "import numpy as np\n",
    "import matplotlib.pyplot as plt\n",
    "import pandas as pd\n",
    "from sklearn.metrics import confusion_matrix\n",
    "from sklearn.neighbors import KNeighborsClassifier\n",
    "from numpy import random\n",
    "from sklearn.model_selection import train_test_split\n",
    "from sklearn.metrics import plot_confusion_matrix\n",
    "from sklearn import preprocessing\n",
    "from numpy import matlib\n",
    "import qgrid\n",
    "from sklearn.metrics import multilabel_confusion_matrix\n",
    "from sklearn.neural_network import MLPClassifier\n",
    "from sklearn.naive_bayes import CategoricalNB"
   ]
  },
  {
   "cell_type": "code",
   "execution_count": 2,
   "metadata": {},
   "outputs": [],
   "source": [
    "X = np.genfromtxt('Data_OpenCV/Features_X.csv',delimiter=',')\n",
    "Y = np.genfromtxt('Data_OpenCV/Y_labels.csv',delimiter=',')"
   ]
  },
  {
   "cell_type": "code",
   "execution_count": 3,
   "metadata": {},
   "outputs": [],
   "source": [
    "def K_vecinos():\n",
    "    random.seed(19680801)\n",
    "    X_train, X_test, y_train, y_test = train_test_split(X, Y, test_size=.7)\n",
    "    modelo = KNeighborsClassifier(n_neighbors=37)\n",
    "    modelo.fit(X_train,y_train)\n",
    "\n",
    "    #Validación con muestras de entrenamiento\n",
    "    Ytrain_pred = modelo.predict(X_train)\n",
    "\n",
    "    #Validación con las muestras de test    \n",
    "    Yest = modelo.predict(X_test)\n",
    "    plot_confusion_matrix(modelo,X=X_test, y_true=y_test)\n",
    "    plt.show()"
   ]
  },
  {
   "cell_type": "code",
   "execution_count": null,
   "metadata": {},
   "outputs": [],
   "source": [
    "K_vecinos()"
   ]
  },
  {
   "cell_type": "code",
   "execution_count": null,
   "metadata": {},
   "outputs": [],
   "source": [
    "def Redes_Neuronales():\n",
    "    random.seed(19680801)\n",
    "    X_train, X_test, y_train, y_test = train_test_split(X, Y, test_size=.7)\n",
    "    modelo =MLPClassifier(hidden_layer_sizes=(100,100,100,100,100),activation = 'relu',max_iter=1000)\n",
    "    modelo.fit(X_train,y_train)\n",
    "\n",
    "    #Validación con muestras de entrenamiento\n",
    "    Ytrain_pred = modelo.predict(X_train)\n",
    "\n",
    "    #Validación con las muestras de test    \n",
    "    Yest = modelo.predict(X_test)\n",
    "    plot_confusion_matrix(modelo,X=X_test, y_true=y_test)\n",
    "    plt.show()"
   ]
  },
  {
   "cell_type": "code",
   "execution_count": null,
   "metadata": {},
   "outputs": [],
   "source": [
    "Redes_Neuronales()"
   ]
  },
  {
   "cell_type": "code",
   "execution_count": null,
   "metadata": {},
   "outputs": [],
   "source": []
  }
 ],
 "metadata": {
  "kernelspec": {
   "display_name": "Python 3",
   "language": "python",
   "name": "python3"
  },
  "language_info": {
   "codemirror_mode": {
    "name": "ipython",
    "version": 3
   },
   "file_extension": ".py",
   "mimetype": "text/x-python",
   "name": "python",
   "nbconvert_exporter": "python",
   "pygments_lexer": "ipython3",
   "version": "3.7.3"
  }
 },
 "nbformat": 4,
 "nbformat_minor": 4
}
