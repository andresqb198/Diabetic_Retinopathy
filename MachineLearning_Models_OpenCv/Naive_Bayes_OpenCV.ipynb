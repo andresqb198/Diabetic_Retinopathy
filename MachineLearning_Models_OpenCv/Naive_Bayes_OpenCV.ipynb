{
 "cells": [
  {
   "cell_type": "code",
   "execution_count": 1,
   "metadata": {},
   "outputs": [],
   "source": [
    "import numpy as np\n",
    "import matplotlib.pyplot as plt\n",
    "import pandas as pd\n",
    "from sklearn.metrics import confusion_matrix\n",
    "from sklearn.mixture import GaussianMixture\n",
    "from numpy import random\n",
    "from sklearn.model_selection import StratifiedKFold\n",
    "from sklearn import preprocessing\n",
    "from numpy import matlib\n",
    "import qgrid"
   ]
  },
  {
   "cell_type": "code",
   "execution_count": 2,
   "metadata": {},
   "outputs": [],
   "source": [
    "X = np.genfromtxt('Data_OpenCV/Features_X.csv',delimiter=',')\n",
    "Y = np.genfromtxt('Data_OpenCV/Y_labels.csv',delimiter=',')"
   ]
  },
  {
   "cell_type": "code",
   "execution_count": 3,
   "metadata": {},
   "outputs": [
    {
     "name": "stdout",
     "output_type": "stream",
     "text": [
      "Tamaño X:  (13493, 150)\n",
      "Tamaño Y:  (13493,)\n"
     ]
    }
   ],
   "source": [
    "print('Tamaño X: ',X.shape)\n",
    "print('Tamaño Y: ', Y.shape)"
   ]
  },
  {
   "cell_type": "code",
   "execution_count": 4,
   "metadata": {},
   "outputs": [],
   "source": [
    "def Naive_Bayes():\n",
    "    Folds = 4\n",
    "    random.seed(19680801)\n",
    "    EficienciaTrain = np.zeros(Folds)\n",
    "    EficienciaVal = np.zeros(Folds)\n",
    "    skf = StratifiedKFold(n_splits=Folds)\n",
    "    j = 0\n",
    "        \n",
    "    for train, test in skf.split(X, Y):\n",
    "        Xtrain = X[train,:]\n",
    "        Ytrain = Y[train]\n",
    "        Xtest = X[test,:]\n",
    "        Ytest = Y[test]\n",
    "        \n",
    "        #Se normalizan los datos\n",
    "        media = np.mean(Xtrain)\n",
    "        desvia = np.std(Xtrain)\n",
    "        Xtrain = preprocessing.scale(Xtrain)\n",
    "        Xtest = (Xtest - np.matlib.repmat(media, Xtest.shape[0], 1))/np.matlib.repmat(desvia, Xtest.shape[0], 1)\n",
    "        \n",
    "        \n",
    "        modelo = GaussianMixture(covariance_type='diag')\n",
    "        modelo.fit(Xtrain,Ytrain)\n",
    "        \n",
    "        #Validación con muestras de entrenamiento\n",
    "        Ytrain_pred = modelo.predict(Xtrain)\n",
    "        \n",
    "        #Validación con las muestras de test    \n",
    "        Yest = modelo.predict(Xtest)\n",
    "        \n",
    "        \n",
    "        #Evaluamos las predicciones del modelo con los datos de test\n",
    "        EficienciaTrain[j] = np.mean(Ytrain_pred == Ytrain)\n",
    "        EficienciaVal[j] = np.mean(Yest == Ytest)\n",
    "        j += 1\n",
    "        \n",
    "      \n",
    "    return np.mean(EficienciaVal), np.std(EficienciaVal),np.mean(EficienciaTrain),np.std(EficienciaTrain) "
   ]
  },
  {
   "cell_type": "code",
   "execution_count": 5,
   "metadata": {},
   "outputs": [
    {
     "name": "stdout",
     "output_type": "stream",
     "text": [
      "Eficiencia validacion: 0.34069519531801384 con Intervalo de confianza: 5.218624399887823e-05\n",
      "Eficiencia entrenamiento: 0.3406951775037945 con Intervalo de confianza: 1.7396073106421095e-05\n"
     ]
    }
   ],
   "source": [
    "eficiencia_val, ic_val,error, std_error = Naive_Bayes()\n",
    "print(\"Eficiencia validacion: \"+str(eficiencia_val)+\" con Intervalo de confianza: \"+str(ic_val))\n",
    "print(\"Eficiencia entrenamiento: \"+str(error)+\" con Intervalo de confianza: \"+str(std_error))"
   ]
  },
  {
   "cell_type": "code",
   "execution_count": null,
   "metadata": {},
   "outputs": [],
   "source": []
  }
 ],
 "metadata": {
  "kernelspec": {
   "display_name": "Python 3",
   "language": "python",
   "name": "python3"
  },
  "language_info": {
   "codemirror_mode": {
    "name": "ipython",
    "version": 3
   },
   "file_extension": ".py",
   "mimetype": "text/x-python",
   "name": "python",
   "nbconvert_exporter": "python",
   "pygments_lexer": "ipython3",
   "version": "3.7.3"
  }
 },
 "nbformat": 4,
 "nbformat_minor": 4
}
