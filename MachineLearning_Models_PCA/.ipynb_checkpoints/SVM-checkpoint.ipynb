{
 "cells": [
  {
   "cell_type": "code",
   "execution_count": 1,
   "metadata": {
    "colab": {},
    "colab_type": "code",
    "id": "Niwxccxzi9hP"
   },
   "outputs": [],
   "source": [
    "from __future__ import division\n",
    "import numpy as np\n",
    "import scipy as sc\n",
    "import matplotlib.pyplot as plt\n",
    "from scipy import stats\n",
    "%matplotlib inline\n",
    "from sklearn.decomposition import PCA\n",
    "import pandas as pd\n",
    "import math\n",
    "from numpy import random\n",
    "from sklearn.svm import SVC\n",
    "from sklearn import preprocessing\n",
    "from sklearn.model_selection import StratifiedKFold"
   ]
  },
  {
   "cell_type": "code",
   "execution_count": 2,
   "metadata": {
    "colab": {},
    "colab_type": "code",
    "id": "qqNFVN_fi9hc"
   },
   "outputs": [],
   "source": [
    "df_x = pd.read_csv('Data_OpenCV/Features_X.csv')\n",
    "df_y = pd.read_csv('Data_OpenCV/Y_labels.csv')"
   ]
  },
  {
   "cell_type": "code",
   "execution_count": 3,
   "metadata": {
    "colab": {},
    "colab_type": "code",
    "id": "GUr6YtFGi9hi"
   },
   "outputs": [],
   "source": [
    "X = pd.DataFrame.to_numpy(df_x)\n",
    "Y = pd.DataFrame.to_numpy(df_y)"
   ]
  },
  {
   "cell_type": "code",
   "execution_count": 4,
   "metadata": {
    "colab": {
     "base_uri": "https://localhost:8080/",
     "height": 52
    },
    "colab_type": "code",
    "executionInfo": {
     "elapsed": 1145,
     "status": "ok",
     "timestamp": 1591362033096,
     "user": {
      "displayName": "Juan Carlos Calle Garcìa",
      "photoUrl": "https://lh3.googleusercontent.com/a-/AOh14GhcASGpvVer_o7xoFMpVzmHfoKWElEVPXiqbW3vmA=s64",
      "userId": "02830876210117661855"
     },
     "user_tz": 300
    },
    "id": "StlUCgOfi9hl",
    "outputId": "0325a1a1-7f24-4bf4-a4bc-fd4dd6481bbc"
   },
   "outputs": [
    {
     "name": "stdout",
     "output_type": "stream",
     "text": [
      "(13492, 150)\n",
      "(13492, 1)\n"
     ]
    }
   ],
   "source": [
    "print(X.shape)\n",
    "print(Y.shape)"
   ]
  },
  {
   "cell_type": "code",
   "execution_count": 5,
   "metadata": {
    "colab": {
     "base_uri": "https://localhost:8080/",
     "height": 34
    },
    "colab_type": "code",
    "executionInfo": {
     "elapsed": 791,
     "status": "ok",
     "timestamp": 1591362035228,
     "user": {
      "displayName": "Juan Carlos Calle Garcìa",
      "photoUrl": "https://lh3.googleusercontent.com/a-/AOh14GhcASGpvVer_o7xoFMpVzmHfoKWElEVPXiqbW3vmA=s64",
      "userId": "02830876210117661855"
     },
     "user_tz": 300
    },
    "id": "QYXPdYtii9hq",
    "outputId": "59638025-3547-4fa2-c8a6-5d0eaec303d8"
   },
   "outputs": [
    {
     "name": "stdout",
     "output_type": "stream",
     "text": [
      "<memory at 0x00000188272C77E0>\n"
     ]
    }
   ],
   "source": [
    "print(Y.data[0:5])"
   ]
  },
  {
   "cell_type": "code",
   "execution_count": 6,
   "metadata": {
    "colab": {},
    "colab_type": "code",
    "id": "O-k6KI9_i9iK"
   },
   "outputs": [],
   "source": [
    "def prueba_svm(ker='linear',conf=0.001,gam=0.0):\n",
    "    Folds = 4\n",
    "    random.seed(19680801)\n",
    "    EficienciaTrain = np.zeros(Folds)\n",
    "    EficienciaVal = np.zeros(Folds)\n",
    "    skf = StratifiedKFold(n_splits=Folds)\n",
    "    porc_vectores = np.zeros(Folds)\n",
    "    j = 0\n",
    "    \n",
    "    for train, test in skf.split(X, Y):\n",
    "        Xtrain = X[train,:]\n",
    "        Ytrain = Y[train]\n",
    "        Xtest = X[test,:]\n",
    "        Ytest = Y[test]\n",
    "\n",
    "        #Normalizamos los datos\n",
    "        scaler = preprocessing.StandardScaler().fit(Xtrain)\n",
    "        Xtrain = scaler.transform(Xtrain)\n",
    "        Xtest = scaler.transform(Xtest)\n",
    "        \n",
    "        #Haga el llamado a la función para crear y entrenar el modelo usando los datos de entrenamiento\n",
    "        if ker == 'linear':\n",
    "            modelo = SVC(kernel =ker, C=conf)\n",
    "        else:\n",
    "            modelo = SVC(kernel=ker, C= conf, gamma= gam)\n",
    "        modelo.fit(Xtrain,Ytrain)\n",
    "\n",
    "\n",
    "        #Validación\n",
    "        Ytrain_pred = modelo.predict(Xtrain)\n",
    "        Yest = modelo.predict(Xtest)\n",
    "\n",
    "        #Evaluamos las predicciones del modelo con los datos de test\n",
    "        EficienciaTrain[j] = np.mean(Ytrain_pred.ravel() == Ytrain.ravel())\n",
    "        EficienciaVal[j] = np.mean(Yest.ravel() == Ytest.ravel())\n",
    "        porc_vectores[j] = len(modelo.support_vectors_)/len(Xtrain)\n",
    "        j += 1\n",
    "\n",
    "    print('Eficiencia durante el entrenamiento = ' + str(np.mean(EficienciaTrain)) + '+-' + str(np.std(EficienciaTrain)))\n",
    "    print('Eficiencia durante la validación = ' + str(np.mean(EficienciaVal)) + '+-' + str(np.std(EficienciaVal)))\n",
    "    \n",
    "    eficiencia_val = np.mean(EficienciaVal)\n",
    "    ic_val = np.std(EficienciaVal)\n",
    "    eficiencia_train = np.mean(EficienciaTrain)\n",
    "    ic_train = np.std(EficienciaTrain)\n",
    "    porc_vect = np.mean(porc_vectores)\n",
    "    \n",
    "    return eficiencia_val,ic_val,eficiencia_train,ic_train,porc_vect"
   ]
  },
  {
   "cell_type": "code",
   "execution_count": 7,
   "metadata": {
    "colab": {
     "base_uri": "https://localhost:8080/",
     "height": 107
    },
    "colab_type": "code",
    "executionInfo": {
     "elapsed": 754,
     "status": "ok",
     "timestamp": 1591362504425,
     "user": {
      "displayName": "Juan Carlos Calle Garcìa",
      "photoUrl": "https://lh3.googleusercontent.com/a-/AOh14GhcASGpvVer_o7xoFMpVzmHfoKWElEVPXiqbW3vmA=s64",
      "userId": "02830876210117661855"
     },
     "user_tz": 300
    },
    "id": "iyKRWPaUi9iG",
    "outputId": "828299be-f970-4a64-e1ca-c3445053c7dd"
   },
   "outputs": [],
   "source": [
    "import pandas as pd\n",
    "import qgrid\n",
    "df_types = pd.DataFrame({\n",
    "    'Kernel' : pd.Series(['linear','linear','linear','linear','linear','linear','rbf','rbf','rbf','rbf','rbf','rbf','rbf','rbf','rbf','rbf','rbf','rbf','rbf','rbf','rbf','rbf','rbf','rbf']),\n",
    "    'C' : pd.Series([0.001,0.01,0.1,1,10,100,0.001,0.001,0.001,0.01,0.01,0.01,0.1,0.1,0.1,1,1,1,10,10,10,100,100,100]),\n",
    "    'gamma' : pd.Series([0,0,0,0,0,0,0.01,0.1,1,0.01,0.1,1,0.01,0.1,1,0.01,0.1,1,0.01,0.1,1,0.01,0.1,1])})\n",
    "df_types[\"Eficiencia en validacion\"] = \"\"\n",
    "df_types[\"Intervalo de confianza\"] = \"\"\n",
    "df_types[\"Eficiencia en entrenamiento\"] = \"\"\n",
    "df_types[\"Intervalo de confianza\"] = \"\"\n",
    "df_types[\"% de Vectores de Soporte\"] = \"\"\n",
    "df_types.set_index(['Kernel','C','gamma'], inplace=True)"
   ]
  },
  {
   "cell_type": "code",
   "execution_count": null,
   "metadata": {
    "colab": {
     "base_uri": "https://localhost:8080/",
     "height": 238
    },
    "colab_type": "code",
    "executionInfo": {
     "elapsed": 1212,
     "status": "error",
     "timestamp": 1591409372434,
     "user": {
      "displayName": "Juan Carlos Calle Garcìa",
      "photoUrl": "https://lh3.googleusercontent.com/a-/AOh14GhcASGpvVer_o7xoFMpVzmHfoKWElEVPXiqbW3vmA=s64",
      "userId": "02830876210117661855"
     },
     "user_tz": 300
    },
    "id": "4zDAII84i9iM",
    "outputId": "89091139-57d1-423d-e51e-b468bf9d5128"
   },
   "outputs": [
    {
     "name": "stdout",
     "output_type": "stream",
     "text": [
      "('linear', 0.001, 0.0)\n"
     ]
    },
    {
     "name": "stderr",
     "output_type": "stream",
     "text": [
      "C:\\Users\\user\\Anaconda3\\lib\\site-packages\\sklearn\\utils\\validation.py:73: DataConversionWarning: A column-vector y was passed when a 1d array was expected. Please change the shape of y to (n_samples, ), for example using ravel().\n",
      "  return f(**kwargs)\n",
      "C:\\Users\\user\\Anaconda3\\lib\\site-packages\\sklearn\\utils\\validation.py:73: DataConversionWarning: A column-vector y was passed when a 1d array was expected. Please change the shape of y to (n_samples, ), for example using ravel().\n",
      "  return f(**kwargs)\n",
      "C:\\Users\\user\\Anaconda3\\lib\\site-packages\\sklearn\\utils\\validation.py:73: DataConversionWarning: A column-vector y was passed when a 1d array was expected. Please change the shape of y to (n_samples, ), for example using ravel().\n",
      "  return f(**kwargs)\n",
      "C:\\Users\\user\\Anaconda3\\lib\\site-packages\\sklearn\\utils\\validation.py:73: DataConversionWarning: A column-vector y was passed when a 1d array was expected. Please change the shape of y to (n_samples, ), for example using ravel().\n",
      "  return f(**kwargs)\n"
     ]
    },
    {
     "name": "stdout",
     "output_type": "stream",
     "text": [
      "Eficiencia durante el entrenamiento = 0.40730309319102675+-0.003237522927340877\n",
      "Eficiencia durante la validación = 0.38659946635042985+-0.007602064278065881\n",
      "0.38659946635042985 0.007602064278065881 0.40730309319102675 0.003237522927340877 0.986214052772013\n",
      "('linear', 0.01, 0.0)\n"
     ]
    },
    {
     "name": "stderr",
     "output_type": "stream",
     "text": [
      "C:\\Users\\user\\Anaconda3\\lib\\site-packages\\sklearn\\utils\\validation.py:73: DataConversionWarning: A column-vector y was passed when a 1d array was expected. Please change the shape of y to (n_samples, ), for example using ravel().\n",
      "  return f(**kwargs)\n",
      "C:\\Users\\user\\Anaconda3\\lib\\site-packages\\sklearn\\utils\\validation.py:73: DataConversionWarning: A column-vector y was passed when a 1d array was expected. Please change the shape of y to (n_samples, ), for example using ravel().\n",
      "  return f(**kwargs)\n",
      "C:\\Users\\user\\Anaconda3\\lib\\site-packages\\sklearn\\utils\\validation.py:73: DataConversionWarning: A column-vector y was passed when a 1d array was expected. Please change the shape of y to (n_samples, ), for example using ravel().\n",
      "  return f(**kwargs)\n",
      "C:\\Users\\user\\Anaconda3\\lib\\site-packages\\sklearn\\utils\\validation.py:73: DataConversionWarning: A column-vector y was passed when a 1d array was expected. Please change the shape of y to (n_samples, ), for example using ravel().\n",
      "  return f(**kwargs)\n"
     ]
    }
   ],
   "source": [
    "#df_types.loc[3,\"Eficiencia en validacion\"] = \"0.97077\"\n",
    "#df_types.loc[3,\"Intervalo de confianza\"] = \"0.01548\"\n",
    "#df_types.loc[3, \"% de Vectores de Soporte\"] = \"0.2620\"\n",
    "#df_types.sort_index(inplace=True)\n",
    "j = 0\n",
    "for i in df_types.index:\n",
    "    print(i)\n",
    "    kernel = i[0]\n",
    "    c = i[1]\n",
    "    gamma = i[2]    \n",
    "    eficiencia_val,ic_val,eficiencia_train,ic_train,porc_vect=prueba_svm(ker=kernel,conf=c,gam=gamma)\n",
    "    df_types.loc[i,\"Eficiencia en validacion\"] = str(eficiencia_val)\n",
    "    df_types.loc[i,\"Intervalo de confianza\"] = str(ic_val)\n",
    "    df_types.loc[i,\"Eficiencia en entrenamiento\"] = str(eficiencia_train)\n",
    "    df_types.loc[i,\"Intervalo de confianza\"] = str(ic_train)\n",
    "    df_types.loc[i, \"% de Vectores de Soporte\"] = str(porc_vect)\n",
    "    j = j+1\n",
    "    print(eficiencia_val,ic_val,eficiencia_train,ic_train,porc_vect)"
   ]
  },
  {
   "cell_type": "code",
   "execution_count": null,
   "metadata": {
    "colab": {},
    "colab_type": "code",
    "id": "qZUCCMw4i9iP"
   },
   "outputs": [],
   "source": []
  }
 ],
 "metadata": {
  "colab": {
   "name": "SVM.ipynb",
   "provenance": []
  },
  "kernelspec": {
   "display_name": "Python 3",
   "language": "python",
   "name": "python3"
  },
  "language_info": {
   "codemirror_mode": {
    "name": "ipython",
    "version": 3
   },
   "file_extension": ".py",
   "mimetype": "text/x-python",
   "name": "python",
   "nbconvert_exporter": "python",
   "pygments_lexer": "ipython3",
   "version": "3.7.3"
  }
 },
 "nbformat": 4,
 "nbformat_minor": 4
}
